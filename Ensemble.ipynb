{
 "cells": [
  {
   "cell_type": "code",
   "execution_count": 4,
   "metadata": {},
   "outputs": [],
   "source": [
    "from sklearn.linear_model import LinearRegression"
   ]
  },
  {
   "cell_type": "code",
   "execution_count": null,
   "metadata": {},
   "outputs": [],
   "source": [
    "#Model 1 predictions for train\n",
    "x1a = \n",
    "x2a = \n",
    "y1a = \n",
    "y2a = "
   ]
  },
  {
   "cell_type": "code",
   "execution_count": null,
   "metadata": {},
   "outputs": [],
   "source": [
    "#Model 2 predictions for train\n",
    "x1b = \n",
    "x2b = \n",
    "y1b = \n",
    "y2b = "
   ]
  },
  {
   "cell_type": "code",
   "execution_count": null,
   "metadata": {},
   "outputs": [],
   "source": [
    "#target\n",
    "train_set = pd.read_csv('train_non_overlap_csv.csv')\n",
    "x1target = "
   ]
  },
  {
   "cell_type": "code",
   "execution_count": null,
   "metadata": {},
   "outputs": [],
   "source": [
    "lm_1 = LinearRegression()\n",
    "lm_1.fit"
   ]
  },
  {
   "cell_type": "code",
   "execution_count": null,
   "metadata": {},
   "outputs": [],
   "source": []
  },
  {
   "cell_type": "code",
   "execution_count": null,
   "metadata": {},
   "outputs": [],
   "source": []
  },
  {
   "cell_type": "code",
   "execution_count": 5,
   "metadata": {},
   "outputs": [],
   "source": [
    "import pandas as pd"
   ]
  },
  {
   "cell_type": "code",
   "execution_count": 6,
   "metadata": {},
   "outputs": [],
   "source": [
    "ens1 = pd.read_csv('submit_resnet50_superaug_9112val.csv')"
   ]
  },
  {
   "cell_type": "code",
   "execution_count": 7,
   "metadata": {},
   "outputs": [],
   "source": [
    "ens2 = pd.read_csv('submit_inceptionval8922-9epochs.csv')"
   ]
  },
  {
   "cell_type": "code",
   "execution_count": 8,
   "metadata": {},
   "outputs": [],
   "source": [
    "mix = pd.DataFrame()"
   ]
  },
  {
   "cell_type": "code",
   "execution_count": 21,
   "metadata": {},
   "outputs": [
    {
     "name": "stderr",
     "output_type": "stream",
     "text": [
      "C:\\Users\\Konsang\\Anaconda3\\envs\\py36\\lib\\site-packages\\ipykernel_launcher.py:1: SettingWithCopyWarning: \n",
      "A value is trying to be set on a copy of a slice from a DataFrame.\n",
      "Try using .loc[row_indexer,col_indexer] = value instead\n",
      "\n",
      "See the caveats in the documentation: http://pandas.pydata.org/pandas-docs/stable/indexing.html#indexing-view-versus-copy\n",
      "  \"\"\"Entry point for launching an IPython kernel.\n",
      "C:\\Users\\Konsang\\Anaconda3\\envs\\py36\\lib\\site-packages\\ipykernel_launcher.py:2: SettingWithCopyWarning: \n",
      "A value is trying to be set on a copy of a slice from a DataFrame.\n",
      "Try using .loc[row_indexer,col_indexer] = value instead\n",
      "\n",
      "See the caveats in the documentation: http://pandas.pydata.org/pandas-docs/stable/indexing.html#indexing-view-versus-copy\n",
      "  \n",
      "C:\\Users\\Konsang\\Anaconda3\\envs\\py36\\lib\\site-packages\\ipykernel_launcher.py:3: SettingWithCopyWarning: \n",
      "A value is trying to be set on a copy of a slice from a DataFrame.\n",
      "Try using .loc[row_indexer,col_indexer] = value instead\n",
      "\n",
      "See the caveats in the documentation: http://pandas.pydata.org/pandas-docs/stable/indexing.html#indexing-view-versus-copy\n",
      "  This is separate from the ipykernel package so we can avoid doing imports until\n",
      "C:\\Users\\Konsang\\Anaconda3\\envs\\py36\\lib\\site-packages\\ipykernel_launcher.py:4: SettingWithCopyWarning: \n",
      "A value is trying to be set on a copy of a slice from a DataFrame.\n",
      "Try using .loc[row_indexer,col_indexer] = value instead\n",
      "\n",
      "See the caveats in the documentation: http://pandas.pydata.org/pandas-docs/stable/indexing.html#indexing-view-versus-copy\n",
      "  after removing the cwd from sys.path.\n"
     ]
    }
   ],
   "source": [
    "mix['x1'] = (ens1['x1']*0.7 + ens2['x1']*0.3)\n",
    "mix['x2'] = (ens1['x2']*0.7 + ens2['x2']*0.3)\n",
    "mix['y1'] = (ens1['y1']*0.7 + ens2['y1']*0.3)\n",
    "mix['y2'] = (ens1['y2']*0.7 + ens2['y2']*0.3)"
   ]
  },
  {
   "cell_type": "code",
   "execution_count": 22,
   "metadata": {},
   "outputs": [
    {
     "name": "stderr",
     "output_type": "stream",
     "text": [
      "C:\\Users\\Konsang\\Anaconda3\\envs\\py36\\lib\\site-packages\\ipykernel_launcher.py:1: SettingWithCopyWarning: \n",
      "A value is trying to be set on a copy of a slice from a DataFrame.\n",
      "Try using .loc[row_indexer,col_indexer] = value instead\n",
      "\n",
      "See the caveats in the documentation: http://pandas.pydata.org/pandas-docs/stable/indexing.html#indexing-view-versus-copy\n",
      "  \"\"\"Entry point for launching an IPython kernel.\n"
     ]
    }
   ],
   "source": [
    "mix['image_name'] = ens1['image_name']"
   ]
  },
  {
   "cell_type": "code",
   "execution_count": 23,
   "metadata": {},
   "outputs": [],
   "source": [
    "mix = mix[['image_name','x1','x2','y1','y2']]"
   ]
  },
  {
   "cell_type": "code",
   "execution_count": 24,
   "metadata": {},
   "outputs": [
    {
     "data": {
      "text/html": [
       "<div>\n",
       "<style scoped>\n",
       "    .dataframe tbody tr th:only-of-type {\n",
       "        vertical-align: middle;\n",
       "    }\n",
       "\n",
       "    .dataframe tbody tr th {\n",
       "        vertical-align: top;\n",
       "    }\n",
       "\n",
       "    .dataframe thead th {\n",
       "        text-align: right;\n",
       "    }\n",
       "</style>\n",
       "<table border=\"1\" class=\"dataframe\">\n",
       "  <thead>\n",
       "    <tr style=\"text-align: right;\">\n",
       "      <th></th>\n",
       "      <th>image_name</th>\n",
       "      <th>x1</th>\n",
       "      <th>x2</th>\n",
       "      <th>y1</th>\n",
       "      <th>y2</th>\n",
       "    </tr>\n",
       "  </thead>\n",
       "  <tbody>\n",
       "    <tr>\n",
       "      <th>0</th>\n",
       "      <td>1467891670691DSC_0582.png</td>\n",
       "      <td>77.794518</td>\n",
       "      <td>551.757568</td>\n",
       "      <td>88.750557</td>\n",
       "      <td>417.374664</td>\n",
       "    </tr>\n",
       "    <tr>\n",
       "      <th>1</th>\n",
       "      <td>1475151786691DSC00560.png</td>\n",
       "      <td>223.329803</td>\n",
       "      <td>411.145386</td>\n",
       "      <td>125.886063</td>\n",
       "      <td>418.670837</td>\n",
       "    </tr>\n",
       "    <tr>\n",
       "      <th>2</th>\n",
       "      <td>1480334114405_R2A3620.png</td>\n",
       "      <td>202.164474</td>\n",
       "      <td>418.801697</td>\n",
       "      <td>101.680481</td>\n",
       "      <td>356.055145</td>\n",
       "    </tr>\n",
       "    <tr>\n",
       "      <th>3</th>\n",
       "      <td>JPEG_20160712_161047_1000606860114.png</td>\n",
       "      <td>186.069717</td>\n",
       "      <td>507.536682</td>\n",
       "      <td>56.583939</td>\n",
       "      <td>414.457092</td>\n",
       "    </tr>\n",
       "    <tr>\n",
       "      <th>4</th>\n",
       "      <td>JPEG_20160403_174522_-1137349501.png</td>\n",
       "      <td>104.069572</td>\n",
       "      <td>534.956116</td>\n",
       "      <td>53.113850</td>\n",
       "      <td>376.973724</td>\n",
       "    </tr>\n",
       "  </tbody>\n",
       "</table>\n",
       "</div>"
      ],
      "text/plain": [
       "                               image_name          x1          x2          y1  \\\n",
       "0               1467891670691DSC_0582.png   77.794518  551.757568   88.750557   \n",
       "1               1475151786691DSC00560.png  223.329803  411.145386  125.886063   \n",
       "2               1480334114405_R2A3620.png  202.164474  418.801697  101.680481   \n",
       "3  JPEG_20160712_161047_1000606860114.png  186.069717  507.536682   56.583939   \n",
       "4    JPEG_20160403_174522_-1137349501.png  104.069572  534.956116   53.113850   \n",
       "\n",
       "           y2  \n",
       "0  417.374664  \n",
       "1  418.670837  \n",
       "2  356.055145  \n",
       "3  414.457092  \n",
       "4  376.973724  "
      ]
     },
     "execution_count": 24,
     "metadata": {},
     "output_type": "execute_result"
    }
   ],
   "source": [
    "ens1.head()"
   ]
  },
  {
   "cell_type": "code",
   "execution_count": 25,
   "metadata": {},
   "outputs": [
    {
     "data": {
      "text/html": [
       "<div>\n",
       "<style scoped>\n",
       "    .dataframe tbody tr th:only-of-type {\n",
       "        vertical-align: middle;\n",
       "    }\n",
       "\n",
       "    .dataframe tbody tr th {\n",
       "        vertical-align: top;\n",
       "    }\n",
       "\n",
       "    .dataframe thead th {\n",
       "        text-align: right;\n",
       "    }\n",
       "</style>\n",
       "<table border=\"1\" class=\"dataframe\">\n",
       "  <thead>\n",
       "    <tr style=\"text-align: right;\">\n",
       "      <th></th>\n",
       "      <th>image_name</th>\n",
       "      <th>x1</th>\n",
       "      <th>x2</th>\n",
       "      <th>y1</th>\n",
       "      <th>y2</th>\n",
       "    </tr>\n",
       "  </thead>\n",
       "  <tbody>\n",
       "    <tr>\n",
       "      <th>0</th>\n",
       "      <td>1467891670691DSC_0582.png</td>\n",
       "      <td>77.416313</td>\n",
       "      <td>552.017523</td>\n",
       "      <td>87.115100</td>\n",
       "      <td>418.059790</td>\n",
       "    </tr>\n",
       "    <tr>\n",
       "      <th>1</th>\n",
       "      <td>1475151786691DSC00560.png</td>\n",
       "      <td>225.107520</td>\n",
       "      <td>414.009283</td>\n",
       "      <td>121.686777</td>\n",
       "      <td>419.612860</td>\n",
       "    </tr>\n",
       "    <tr>\n",
       "      <th>2</th>\n",
       "      <td>1480334114405_R2A3620.png</td>\n",
       "      <td>203.321605</td>\n",
       "      <td>422.337244</td>\n",
       "      <td>98.571959</td>\n",
       "      <td>358.776358</td>\n",
       "    </tr>\n",
       "    <tr>\n",
       "      <th>3</th>\n",
       "      <td>JPEG_20160712_161047_1000606860114.png</td>\n",
       "      <td>186.135416</td>\n",
       "      <td>506.806238</td>\n",
       "      <td>52.797309</td>\n",
       "      <td>415.158606</td>\n",
       "    </tr>\n",
       "    <tr>\n",
       "      <th>4</th>\n",
       "      <td>JPEG_20160403_174522_-1137349501.png</td>\n",
       "      <td>101.639568</td>\n",
       "      <td>526.090753</td>\n",
       "      <td>54.079570</td>\n",
       "      <td>378.952032</td>\n",
       "    </tr>\n",
       "  </tbody>\n",
       "</table>\n",
       "</div>"
      ],
      "text/plain": [
       "                               image_name          x1          x2          y1  \\\n",
       "0               1467891670691DSC_0582.png   77.416313  552.017523   87.115100   \n",
       "1               1475151786691DSC00560.png  225.107520  414.009283  121.686777   \n",
       "2               1480334114405_R2A3620.png  203.321605  422.337244   98.571959   \n",
       "3  JPEG_20160712_161047_1000606860114.png  186.135416  506.806238   52.797309   \n",
       "4    JPEG_20160403_174522_-1137349501.png  101.639568  526.090753   54.079570   \n",
       "\n",
       "           y2  \n",
       "0  418.059790  \n",
       "1  419.612860  \n",
       "2  358.776358  \n",
       "3  415.158606  \n",
       "4  378.952032  "
      ]
     },
     "execution_count": 25,
     "metadata": {},
     "output_type": "execute_result"
    }
   ],
   "source": [
    "mix.head()"
   ]
  },
  {
   "cell_type": "code",
   "execution_count": 26,
   "metadata": {},
   "outputs": [],
   "source": [
    "mix.to_csv('ensemble_resnet_inception_70_30.csv',index = False)"
   ]
  },
  {
   "cell_type": "code",
   "execution_count": null,
   "metadata": {},
   "outputs": [],
   "source": []
  }
 ],
 "metadata": {
  "kernelspec": {
   "display_name": "Python 3",
   "language": "python",
   "name": "python3"
  },
  "language_info": {
   "codemirror_mode": {
    "name": "ipython",
    "version": 3
   },
   "file_extension": ".py",
   "mimetype": "text/x-python",
   "name": "python",
   "nbconvert_exporter": "python",
   "pygments_lexer": "ipython3",
   "version": "3.5.6"
  }
 },
 "nbformat": 4,
 "nbformat_minor": 2
}
