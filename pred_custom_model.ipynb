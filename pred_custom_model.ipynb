{
 "cells": [
  {
   "cell_type": "code",
   "execution_count": 1,
   "metadata": {},
   "outputs": [
    {
     "name": "stderr",
     "output_type": "stream",
     "text": [
      "Using TensorFlow backend.\n"
     ]
    }
   ],
   "source": [
    "import numpy as np\n",
    "import argparse\n",
    "import random\n",
    "import os\n",
    "from scipy import misc\n",
    "from skimage import draw\n",
    "from keras.models import Sequential\n",
    "from keras.layers.core import Dense, Dropout, Activation, Flatten\n",
    "from keras.optimizers import Adam, RMSprop\n",
    "from keras.layers.convolutional import Convolution2D, MaxPooling2D\n",
    "from keras.callbacks import ModelCheckpoint, EarlyStopping"
   ]
  },
  {
   "cell_type": "code",
   "execution_count": 2,
   "metadata": {},
   "outputs": [],
   "source": [
    "from keras.models import Sequential\n",
    "from keras.layers.core import Dense, Dropout, Activation, Flatten\n",
    "from keras.optimizers import Adam, RMSprop\n",
    "from keras.layers.convolutional import Convolution2D, MaxPooling2D\n",
    "from keras.callbacks import ModelCheckpoint, EarlyStopping\n",
    "from keras.layers import Reshape, Activation, Conv2D, Input, MaxPooling2D, BatchNormalization, Flatten, Dense\n",
    "import keras.backend as K\n",
    "import pandas as pd\n",
    "model = Sequential()\n",
    "# 3x128x128\n",
    "model.add(Conv2D(32, (3, 3), strides = (1,1), padding =\"same\", input_shape=(480, 640, 3), data_format = 'channels_last'))\n",
    "model.add(Activation(\"relu\"))\n",
    "model.add(Dropout(0.0))\n",
    "model.add(BatchNormalization())\n",
    "# 32x128x128\n",
    "'''model.add(Convolution2D(32, (3, 3), padding=\"same\", data_format = 'channels_last'))\n",
    "model.add(Activation(\"relu\"))'''\n",
    "model.add(MaxPooling2D((2, 2)))\n",
    "model.add(Dropout(0.0))\n",
    "model.add(BatchNormalization())\n",
    " # 64x64x64\n",
    "model.add(Convolution2D(64, (3, 3), padding=\"same\", data_format = 'channels_last'))\n",
    "model.add(Activation(\"relu\"))\n",
    "model.add(MaxPooling2D((2, 2)))\n",
    "model.add(Dropout(0.0))\n",
    "model.add(BatchNormalization())\n",
    "# 128x32x32\n",
    "model.add(Convolution2D(64, (3, 3), padding=\"same\", data_format = 'channels_last'))\n",
    "model.add(Activation(\"relu\"))\n",
    "model.add(MaxPooling2D((2, 2)))\n",
    "model.add(Dropout(0.0))\n",
    "model.add(BatchNormalization())\n",
    "#128x16x16\n",
    "'''model.add(Convolution2D(256, (3, 3), padding=\"same\", data_format = 'channels_last'))\n",
    "model.add(Activation(\"relu\"))'''\n",
    "model.add(MaxPooling2D((2, 2)))\n",
    "model.add(Dropout(0.0))\n",
    "model.add(BatchNormalization())\n",
    "model.add(Flatten())\n",
    "model.add(Dense(64))\n",
    "model.add(Activation(\"relu\"))\n",
    "model.add(Dropout(0.0))\n",
    "model.add(BatchNormalization())\n",
    "model.add(Dense(4))"
   ]
  },
  {
   "cell_type": "code",
   "execution_count": 3,
   "metadata": {},
   "outputs": [
    {
     "name": "stdout",
     "output_type": "stream",
     "text": [
      "_________________________________________________________________\n",
      "Layer (type)                 Output Shape              Param #   \n",
      "=================================================================\n",
      "conv2d_1 (Conv2D)            (None, 480, 640, 32)      896       \n",
      "_________________________________________________________________\n",
      "activation_1 (Activation)    (None, 480, 640, 32)      0         \n",
      "_________________________________________________________________\n",
      "dropout_1 (Dropout)          (None, 480, 640, 32)      0         \n",
      "_________________________________________________________________\n",
      "batch_normalization_1 (Batch (None, 480, 640, 32)      128       \n",
      "_________________________________________________________________\n",
      "max_pooling2d_1 (MaxPooling2 (None, 240, 320, 32)      0         \n",
      "_________________________________________________________________\n",
      "dropout_2 (Dropout)          (None, 240, 320, 32)      0         \n",
      "_________________________________________________________________\n",
      "batch_normalization_2 (Batch (None, 240, 320, 32)      128       \n",
      "_________________________________________________________________\n",
      "conv2d_2 (Conv2D)            (None, 240, 320, 64)      18496     \n",
      "_________________________________________________________________\n",
      "activation_2 (Activation)    (None, 240, 320, 64)      0         \n",
      "_________________________________________________________________\n",
      "max_pooling2d_2 (MaxPooling2 (None, 120, 160, 64)      0         \n",
      "_________________________________________________________________\n",
      "dropout_3 (Dropout)          (None, 120, 160, 64)      0         \n",
      "_________________________________________________________________\n",
      "batch_normalization_3 (Batch (None, 120, 160, 64)      256       \n",
      "_________________________________________________________________\n",
      "conv2d_3 (Conv2D)            (None, 120, 160, 64)      36928     \n",
      "_________________________________________________________________\n",
      "activation_3 (Activation)    (None, 120, 160, 64)      0         \n",
      "_________________________________________________________________\n",
      "max_pooling2d_3 (MaxPooling2 (None, 60, 80, 64)        0         \n",
      "_________________________________________________________________\n",
      "dropout_4 (Dropout)          (None, 60, 80, 64)        0         \n",
      "_________________________________________________________________\n",
      "batch_normalization_4 (Batch (None, 60, 80, 64)        256       \n",
      "_________________________________________________________________\n",
      "max_pooling2d_4 (MaxPooling2 (None, 30, 40, 64)        0         \n",
      "_________________________________________________________________\n",
      "dropout_5 (Dropout)          (None, 30, 40, 64)        0         \n",
      "_________________________________________________________________\n",
      "batch_normalization_5 (Batch (None, 30, 40, 64)        256       \n",
      "_________________________________________________________________\n",
      "flatten_1 (Flatten)          (None, 76800)             0         \n",
      "_________________________________________________________________\n",
      "dense_1 (Dense)              (None, 64)                4915264   \n",
      "_________________________________________________________________\n",
      "activation_4 (Activation)    (None, 64)                0         \n",
      "_________________________________________________________________\n",
      "dropout_6 (Dropout)          (None, 64)                0         \n",
      "_________________________________________________________________\n",
      "batch_normalization_6 (Batch (None, 64)                256       \n",
      "_________________________________________________________________\n",
      "dense_2 (Dense)              (None, 4)                 260       \n",
      "=================================================================\n",
      "Total params: 4,973,124\n",
      "Trainable params: 4,972,484\n",
      "Non-trainable params: 640\n",
      "_________________________________________________________________\n"
     ]
    }
   ],
   "source": [
    "model.summary()"
   ]
  },
  {
   "cell_type": "code",
   "execution_count": 4,
   "metadata": {},
   "outputs": [],
   "source": [
    "def iou_loss(y_true, y_pred):\n",
    "    # iou loss for bounding box prediction\n",
    "    # input must be as [x1, y1, x2 - x1, y2 - y1]\n",
    "    \n",
    "    # AOG = Area of Groundtruth box\n",
    "    AoG = K.abs(K.transpose(y_true)[2] + 1) * K.abs(K.transpose(y_true)[3] + 1)\n",
    "    \n",
    "    # AOP = Area of Predicted box\n",
    "    AoP = K.abs(K.transpose(y_pred)[2] + 1) * K.abs(K.transpose(y_pred)[3] + 1)\n",
    "\n",
    "    # overlaps are the co-ordinates of intersection box\n",
    "    overlap_0 = K.maximum(K.transpose(y_true)[0], K.transpose(y_pred)[0])\n",
    "    overlap_1 = K.maximum(K.transpose(y_true)[1], K.transpose(y_pred)[1])\n",
    "    overlap_2 = K.minimum(K.transpose(y_true)[2] + K.transpose(y_true)[0] , K.transpose(y_pred)[2] + K.transpose(y_pred)[0])\n",
    "    overlap_3 = K.minimum(K.transpose(y_true)[3] + K.transpose(y_true)[1] , K.transpose(y_pred)[3] + K.transpose(y_pred)[1])\n",
    "\n",
    "    # intersection area\n",
    "    intersection = (overlap_2 - overlap_0 + 1) * (overlap_3 - overlap_1 + 1)\n",
    "\n",
    "    # area of union of both boxes\n",
    "    union = AoG + AoP - intersection\n",
    "    \n",
    "    # iou calculation\n",
    "    iou = intersection / union\n",
    "\n",
    "    # bounding values of iou to (0,1)\n",
    "    iou = K.clip(iou, 0.0 + K.epsilon(), 1.0 - K.epsilon())\n",
    "\n",
    "    # loss for the iou value\n",
    "    iou_loss = -K.log(iou)\n",
    "\n",
    "    return iou_loss"
   ]
  },
  {
   "cell_type": "code",
   "execution_count": 5,
   "metadata": {},
   "outputs": [],
   "source": [
    "def iou_metric(y_true, y_pred):\n",
    "    # iou as metric for bounding box regression\n",
    "    # input must be as [x1, y1, x2-x1, y2-y1]\n",
    "    \n",
    "    # AOG = Area of Groundtruth box\n",
    "    AoG = K.abs(K.transpose(y_true)[2] + 1) * K.abs(K.transpose(y_true)[3] + 1)\n",
    "    \n",
    "    # AOP = Area of Predicted box\n",
    "    AoP = K.abs(K.transpose(y_pred)[2] + 1) * K.abs(K.transpose(y_pred)[3] + 1)\n",
    "\n",
    "    # overlaps are the co-ordinates of intersection box\n",
    "    overlap_0 = K.maximum(K.transpose(y_true)[0], K.transpose(y_pred)[0])\n",
    "    overlap_1 = K.maximum(K.transpose(y_true)[1], K.transpose(y_pred)[1])\n",
    "    overlap_2 = K.minimum(K.transpose(y_true)[2] + K.transpose(y_true)[0] , K.transpose(y_pred)[2] + K.transpose(y_pred)[0])\n",
    "    overlap_3 = K.minimum(K.transpose(y_true)[3] + K.transpose(y_true)[1] , K.transpose(y_pred)[3] + K.transpose(y_pred)[1])\n",
    "\n",
    "    # intersection area\n",
    "    intersection = (overlap_2 - overlap_0 + 1) * (overlap_3 - overlap_1 + 1)\n",
    "\n",
    "    # area of union of both boxes\n",
    "    union = AoG + AoP - intersection\n",
    "    \n",
    "    # iou calculation\n",
    "    iou = intersection / union\n",
    "\n",
    "    # bounding values of iou to (0,1)\n",
    "    iou = K.clip(iou, 0.0 + K.epsilon(), 1.0 - K.epsilon())\n",
    "    return -iou   "
   ]
  },
  {
   "cell_type": "code",
   "execution_count": 6,
   "metadata": {},
   "outputs": [
    {
     "name": "stdout",
     "output_type": "stream",
     "text": [
      "Compiling...\n"
     ]
    }
   ],
   "source": [
    "print(\"Compiling...\")\n",
    "model.compile(loss='mean_squared_error', optimizer=RMSprop(), metrics=[iou_metric])"
   ]
  },
  {
   "cell_type": "code",
   "execution_count": 7,
   "metadata": {},
   "outputs": [],
   "source": [
    "model.load_weights('model_new_regress_best_new_aug_noreg.weights')"
   ]
  },
  {
   "cell_type": "code",
   "execution_count": 8,
   "metadata": {},
   "outputs": [],
   "source": [
    "submission = pd.DataFrame(columns=['image_name','x1','x2','y1','y2'])"
   ]
  },
  {
   "cell_type": "code",
   "execution_count": 9,
   "metadata": {},
   "outputs": [
    {
     "name": "stderr",
     "output_type": "stream",
     "text": [
      "24045it [08:52, 45.19it/s]\n"
     ]
    }
   ],
   "source": [
    "from PIL import Image\n",
    "import numpy as np\n",
    "import pandas as pd\n",
    "from tqdm import tqdm\n",
    "import matplotlib.pyplot as plt\n",
    "%matplotlib inline\n",
    "test = pd.read_csv('test.csv')\n",
    "for i in tqdm(test.iterrows()):\n",
    "    image = np.expand_dims(np.array(Image.open('test/' + i[1]['image_name']), dtype=np.uint8) , axis = 0)\n",
    "    pred = model.predict(image)\n",
    "    final_coords = pred[0]\n",
    "    final_coords[2] = final_coords[2] + final_coords[0]\n",
    "    final_coords[3] = final_coords[3] + final_coords[1]\n",
    "    if(final_coords[0] < 0):\n",
    "        final_coords[0] = 0\n",
    "    if(final_coords[1] < 0):\n",
    "        final_coords[1] = 0\n",
    "    if(final_coords[2] > 640):\n",
    "        final_coords[2] = 640\n",
    "    if(final_coords[3] > 480):\n",
    "        final_coords[3] = 480\n",
    "    submission = submission.append({'image_name':i[1]['image_name'],'x1':final_coords[0],'x2':final_coords[2],'y1':final_coords[1],'y2':final_coords[3]}, ignore_index=True)\n"
   ]
  },
  {
   "cell_type": "code",
   "execution_count": 12,
   "metadata": {},
   "outputs": [],
   "source": [
    "submission.to_csv('submit_new_aug_someshitattempt3.csv', index = False)"
   ]
  }
 ],
 "metadata": {
  "kernelspec": {
   "display_name": "Python 3",
   "language": "python",
   "name": "python3"
  },
  "language_info": {
   "codemirror_mode": {
    "name": "ipython",
    "version": 3
   },
   "file_extension": ".py",
   "mimetype": "text/x-python",
   "name": "python",
   "nbconvert_exporter": "python",
   "pygments_lexer": "ipython3",
   "version": "3.5.6"
  }
 },
 "nbformat": 4,
 "nbformat_minor": 2
}
